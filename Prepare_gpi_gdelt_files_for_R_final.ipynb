{
 "cells": [
  {
   "cell_type": "code",
   "execution_count": 6,
   "metadata": {},
   "outputs": [],
   "source": [
    "import pandas as pd\n",
    "import os"
   ]
  },
  {
   "cell_type": "code",
   "execution_count": 2,
   "metadata": {},
   "outputs": [],
   "source": [
    "# Function to remove variables that have 50% of their values 0\n",
    "def non_zero_variables(df):\n",
    "    cols = df.columns\n",
    "    cols_non_0 = []\n",
    "    for col in cols:\n",
    "        if ((df[col].eq(0).sum(axis=0)) < 0.5 * (len(df[col]))):\n",
    "            cols_non_0.append(col)\n",
    "    return cols_non_0"
   ]
  },
  {
   "cell_type": "code",
   "execution_count": 3,
   "metadata": {},
   "outputs": [],
   "source": [
    "# Find the countries that have both GPI and Gdelt values \n",
    "\n",
    "countries_gpi = []\n",
    "for i in os.listdir('../Datasets/Gdelt_Well-being/interpolated_gpi/'):\n",
    "    if i != '.DS_Store':\n",
    "        countries_gpi.append((i.split('_')[2].split('.')[0]))\n",
    "        \n",
    "countries_gdelt = []\n",
    "for j in os.listdir('../Datasets/Gdelt_Well-being/gdelt_data/'):\n",
    "    if j != '.DS_Store':\n",
    "        countries_gdelt.append(j.split('.')[0])\n",
    "        \n",
    "all_countries = [country for country in countries_gdelt if country in countries_gpi] "
   ]
  },
  {
   "cell_type": "code",
   "execution_count": 4,
   "metadata": {},
   "outputs": [],
   "source": [
    "## problem with Palestine (West Bank) - WE : not enough GPI data\n",
    "if 'WE' in all_countries:\n",
    "    all_countries.remove('WE')"
   ]
  },
  {
   "cell_type": "code",
   "execution_count": 5,
   "metadata": {},
   "outputs": [],
   "source": [
    "all_variables_df = {}\n",
    "\n",
    "for country in all_countries:\n",
    "    # Read Data\n",
    "    gpi_data = pd.read_csv('../Datasets/Gdelt_Well-being/interpolated_gpi/interpolated_gpi_%s.csv' %country)\n",
    "    gpi_data.astype({'MonthYear': 'str'}).dtypes\n",
    "    all_variables_df[country] = pd.DataFrame({ 'MonthYear': gpi_data.MonthYear, 'GPI': gpi_data.GPI_score})\n",
    "    all_variables_df[country] = all_variables_df[country].set_index('MonthYear')\n",
    "\n",
    "    \n",
    "    country_data = pd.read_csv('../Datasets/Gdelt_Well-being/gdelt_data/%s.csv' %country)\n",
    "    # Remove event codes that are not numeric\n",
    "    country_data.EventBaseCode = pd.to_numeric(country_data.EventBaseCode, errors='coerce')\n",
    "    country_data = country_data.dropna()\n",
    "    country_data = country_data.reset_index(drop=True)\n",
    "    country_data.EventBaseCode =  country_data.EventBaseCode.astype(int)\n",
    "    variables = country_data['EventBaseCode'].unique()\n",
    "    \n",
    "    # Create the final time series for all the variables\n",
    "    events_count = {}\n",
    "    tones_count = {}\n",
    "    goldsteins = {}\n",
    "\n",
    "    for v in variables:\n",
    "        \n",
    "        single_variable = country_data.loc[country_data.EventBaseCode == v]\n",
    "        single_variable = single_variable.reset_index(drop = True)\n",
    "\n",
    "        df_to_print = pd.DataFrame({'MonthYear': single_variable.MonthYear, 'event_count_' + str(v): single_variable.eventcount, \n",
    "                 'tone_count_' + str(v): single_variable.tonecount, 'goldstein_' + str(v): single_variable.goldstein})\n",
    "        df_to_print = df_to_print.set_index('MonthYear')\n",
    "        all_variables_df[country] = pd.concat([all_variables_df[country], df_to_print], axis=1)\n",
    "    # Removing the 5 last GDLET rows for which we have no GPI values\n",
    "    all_variables_df[country].drop(all_variables_df[country].tail(5).index, inplace=True)\n",
    "    all_variables_df[country] = all_variables_df[country].fillna(0)\n",
    "    # Filter the variables that have many zeros\n",
    "    variables_non_0 = non_zero_variables(all_variables_df[country])\n",
    "    all_variables_df[country] = all_variables_df[country][variables_non_0]\n",
    "    all_variables_df[country].to_csv(r'../Datasets/Gdelt_Well-being/files_for_R_no_log/all_variables_%s.csv' %(country))\n",
    "    "
   ]
  },
  {
   "cell_type": "code",
   "execution_count": null,
   "metadata": {},
   "outputs": [],
   "source": []
  }
 ],
 "metadata": {
  "kernelspec": {
   "display_name": "Python 3",
   "language": "python",
   "name": "python3"
  },
  "language_info": {
   "codemirror_mode": {
    "name": "ipython",
    "version": 3
   },
   "file_extension": ".py",
   "mimetype": "text/x-python",
   "name": "python",
   "nbconvert_exporter": "python",
   "pygments_lexer": "ipython3",
   "version": "3.7.4"
  }
 },
 "nbformat": 4,
 "nbformat_minor": 2
}
