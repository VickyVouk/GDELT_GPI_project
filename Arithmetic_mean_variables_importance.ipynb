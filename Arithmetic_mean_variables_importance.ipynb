{
 "cells": [
  {
   "cell_type": "code",
   "execution_count": 1,
   "metadata": {},
   "outputs": [],
   "source": [
    "import pandas as pd\n",
    "import matplotlib.pyplot as plt\n",
    "import numpy as np\n",
    "import os"
   ]
  },
  {
   "cell_type": "markdown",
   "metadata": {},
   "source": [
    "Set the path where the variable importance is saved."
   ]
  },
  {
   "cell_type": "code",
   "execution_count": 2,
   "metadata": {},
   "outputs": [],
   "source": [
    "path = '/../../rf_results/'"
   ]
  },
  {
   "cell_type": "markdown",
   "metadata": {},
   "source": [
    "Create the list of the countries we are interested, i.e. war-torn, peaceful and powerful countries:"
   ]
  },
  {
   "cell_type": "code",
   "execution_count": 3,
   "metadata": {},
   "outputs": [],
   "source": [
    "country_list = ['YM', 'SO', 'LY',  'PK', 'CG', 'PO', 'IC', 'NZ', 'SI', 'SN', 'UK','CH','US','JA','SA']"
   ]
  },
  {
   "cell_type": "markdown",
   "metadata": {},
   "source": [
    "Control the total number of predictions for the countries in the list"
   ]
  },
  {
   "cell_type": "markdown",
   "metadata": {},
   "source": [
    "Create the dataframe with the variables per country, based on a methodogy of frequency and weights (see code below):"
   ]
  },
  {
   "cell_type": "code",
   "execution_count": 13,
   "metadata": {
    "scrolled": true
   },
   "outputs": [],
   "source": [
    "for country in country_list:\n",
    "        \n",
    "    preds = pd.read_csv(path + '%s_rf_0.5_predictions_mtry.csv' %(country), index_col=0)\n",
    "    print(country)\n",
    "\n",
    "    #The number of predictions\n",
    "    total_preds = len(preds)\n",
    "    print(total_preds)"
   ]
  },
  {
   "cell_type": "code",
   "execution_count": 9,
   "metadata": {
    "scrolled": true
   },
   "outputs": [],
   "source": [
    "#Create an empty dataframe to add the most important variables for all countries\n",
    "Top_var_all  = pd.DataFrame()\n",
    "Top_var_values_all = pd.DataFrame()\n",
    "all_variable_info = list() \n",
    "\n",
    "for country in country_list:\n",
    "            \n",
    "    #Read the file with the important variables\n",
    "    elnet_variables = pd.read_csv(path+'%s_rf_0.5_important_variables.csv' %(country), index_col=0)\n",
    "\n",
    "    #Create a dictionary saving the country code, the len of the variables and the unique variables\n",
    "    variable_info = {'%s' %country: (len(elnet_variables), len(pd.unique(elnet_variables.var_name)))}\n",
    "    #Append the dictionary on a list, so that I have all variable info\n",
    "    all_variable_info.append(variable_info)\n",
    "    \n",
    "    ##Create the variable's importance based on a mean that takes into account the frequency of the variables\n",
    "    ##because for some rollings some variables do not exist at all \n",
    "\n",
    "    elaborated_mean_var = elnet_variables.groupby('var_name')['Overall'].sum()/total_preds\n",
    "    \n",
    "    #Add the values ordered by importance into a list.\n",
    "    top_var = elaborated_mean_var.sort_values(ascending = False).head(10).index.to_list()\n",
    "    \n",
    "    top_var_values = elaborated_mean_var.sort_values(ascending = False).head(10).to_list()\n",
    "    \n",
    "    top_var_values =  pd.DataFrame({'variables_'+country : top_var, 'values_'+country : top_var_values})\n",
    "    \n",
    "    #Convert list to a dataframe\n",
    "    top_var = pd.DataFrame(top_var, columns = ['variables_'+country])\n",
    "    \n",
    "    Top_var_values_all = pd.concat([Top_var_values_all,top_var_values],axis=1, join='outer')\n",
    "\n",
    "    #Append list as a column to the big dataframe\n",
    "    Top_var_all = pd.concat([Top_var_all,top_var],axis=1, join='outer')"
   ]
  },
  {
   "cell_type": "markdown",
   "metadata": {},
   "source": [
    "We do the same process to get the most important variables for Elastic Net and Decision Tree models."
   ]
  }
 ],
 "metadata": {
  "kernelspec": {
   "display_name": "Python 3",
   "language": "python",
   "name": "python3"
  },
  "language_info": {
   "codemirror_mode": {
    "name": "ipython",
    "version": 3
   },
   "file_extension": ".py",
   "mimetype": "text/x-python",
   "name": "python",
   "nbconvert_exporter": "python",
   "pygments_lexer": "ipython3",
   "version": "3.7.3"
  }
 },
 "nbformat": 4,
 "nbformat_minor": 2
}
